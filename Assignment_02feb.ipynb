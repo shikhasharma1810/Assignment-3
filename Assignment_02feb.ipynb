{
 "cells": [
  {
   "cell_type": "code",
   "execution_count": null,
   "id": "25d81e68-0476-4397-92d9-6b66dd261fda",
   "metadata": {},
   "outputs": [],
   "source": [
    "1. Explain with an example each when to use a for loop and a while loop.\n",
    "\n",
    "For Loop: A for loop is a control flow statement that executes code for a predefined number of iterations. The keyword used\n",
    "in this control flow statement is “for”. When the number of iterations is already known, the for loop is used.\n",
    "Example:\n",
    "    \n",
    "l1=['shikha','sharma','khushi','nikki']\n",
    "for i in l1:\n",
    "    print(i)\n",
    "else:\n",
    "    print('print anything')\n",
    "    \n",
    "Output:\n",
    "shikha\n",
    "sharma\n",
    "khushi\n",
    "nikki\n",
    "print anything\n",
    "    \n",
    "While Loop: A loop that runs a single statement or a set of statements for a given true condition. This loop is represented by \n",
    "the keyword \"while.\" When the number of iterations is unknown, a \"while\" loop is used. The statement is repeated until\n",
    "the boolean value is false. Because the condition is tested at the beginning of a while loop, it is also known as\n",
    "the pre-test loop.\n",
    "Example:\n",
    "    \n",
    "a=1\n",
    "while a<=10:\n",
    "    print (a)\n",
    "    a=a+1\n",
    "    \n",
    "Output:\n",
    "1\n",
    "2\n",
    "3\n",
    "4\n",
    "5\n",
    "6\n",
    "7\n",
    "8\n",
    "9\n",
    "10\n"
   ]
  },
  {
   "cell_type": "code",
   "execution_count": 8,
   "id": "61e7ff16-d3c0-461c-ac7c-299fd7b4f8fa",
   "metadata": {},
   "outputs": [
    {
     "name": "stdout",
     "output_type": "stream",
     "text": [
      "sum= 55\n",
      "Product 3628800\n"
     ]
    }
   ],
   "source": [
    "2. # Write a python program to print the sum and product of the first 10 natural numbers using while loop.\n",
    "\n",
    "i=1\n",
    "add=0\n",
    "mult=1\n",
    "while i<=10:\n",
    "    add=add + i\n",
    "    mult=mult*i\n",
    "    i= i+1\n",
    "print('sum=', add)\n",
    "print('Product', mult)\n",
    "    \n"
   ]
  },
  {
   "cell_type": "code",
   "execution_count": 10,
   "id": "88dd4097-e453-42e2-a580-30267ac26852",
   "metadata": {},
   "outputs": [
    {
     "name": "stdout",
     "output_type": "stream",
     "text": [
      "sum= 55\n",
      "Product 3628800\n"
     ]
    }
   ],
   "source": [
    "2. # Write a python program to print the sum and product of the first 10 natural numbers using for loop.\n",
    "\n",
    "l=[1,2,3,4,5,6,7,8,9,10]\n",
    "add=0\n",
    "mult=1\n",
    "for i in l:\n",
    "    add=add + i\n",
    "    mult=mult*i\n",
    "    i= i+1\n",
    "print('sum=', add)\n",
    "print('Product', mult)"
   ]
  },
  {
   "cell_type": "code",
   "execution_count": 3,
   "id": "2725c572-5ac5-441e-b323-ee90a8ed51ce",
   "metadata": {},
   "outputs": [
    {
     "name": "stdin",
     "output_type": "stream",
     "text": [
      "Enter units of electricity consumed in a month 310\n"
     ]
    },
    {
     "name": "stdout",
     "output_type": "stream",
     "text": [
      "Electricity bill= 2250.0\n"
     ]
    }
   ],
   "source": [
    "3. # Create a python program to compute the electricity bill for a household.\n",
    "# The per-unit charges in rupees are as follows: For the first 100 units, the user will be charged Rs. 4.5 per\n",
    "# unit, for the next 100 units, the user will be charged Rs. 6 per unit, and for the next 100 units, the user will\n",
    "# be charged Rs. 10 per unit, After 300 units and above the user will be charged Rs. 20 per unit.\n",
    "# You are required to take the units of electricity consumed in a month from the user as input.\n",
    "\n",
    "units = int(input('Enter units of electricity consumed in a month'))\n",
    "\n",
    "if units<=100:\n",
    "    elec_bill = 4.5 * units\n",
    "    print('Electricity bill=', elec_bill)\n",
    "elif units<=200:\n",
    "    elec_bill = (100*4.5) + (units-100) * 6\n",
    "    print('Electricity bill=', elec_bill)\n",
    "elif units<=300:\n",
    "    elec_bill = (100*4.5) + (100*6) + (units-200) * 10\n",
    "    print('Electricity bill=', elec_bill)\n",
    "else:\n",
    "    elec_bill = (100*4.5) + (100*6) + (100*10) + (units-300) * 20\n",
    "    print('Electricity bill=', elec_bill)\n",
    "    \n",
    "    "
   ]
  },
  {
   "cell_type": "code",
   "execution_count": 30,
   "id": "5c69186f-86a5-4cbd-8b43-2ea52d1d50e9",
   "metadata": {},
   "outputs": [
    {
     "name": "stdout",
     "output_type": "stream",
     "text": [
      "Cube of numbers are =\n",
      " [1, 8, 27, 64, 125, 216, 343, 512, 729, 1000, 1331, 1728, 2197, 2744, 3375, 4096, 4913, 5832, 6859, 8000, 9261, 10648, 12167, 13824, 15625, 17576, 19683, 21952, 24389, 27000, 29791, 32768, 35937, 39304, 42875, 46656, 50653, 54872, 59319, 64000, 68921, 74088, 79507, 85184, 91125, 97336, 103823, 110592, 117649, 125000, 132651, 140608, 148877, 157464, 166375, 175616, 185193, 195112, 205379, 216000, 226981, 238328, 250047, 262144, 274625, 287496, 300763, 314432, 328509, 343000, 357911, 373248, 389017, 405224, 421875, 438976, 456533, 474552, 493039, 512000, 531441, 551368, 571787, 592704, 614125, 636056, 658503, 681472, 704969, 729000, 753571, 778688, 804357, 830584, 857375, 884736, 912673, 941192, 970299, 1000000]\n",
      "\n",
      "Number divisible by 4 or 5\n",
      " [8, 64, 125, 216, 512, 1000, 1728, 2744, 3375, 4096, 5832, 8000, 10648, 13824, 15625, 17576, 21952, 27000, 32768, 39304, 42875, 46656, 54872, 64000, 74088, 85184, 91125, 97336, 110592, 125000, 140608, 157464, 166375, 175616, 195112, 216000, 238328, 262144, 274625, 287496, 314432, 343000, 373248, 405224, 421875, 438976, 474552, 512000, 551368, 592704, 614125, 636056, 681472, 729000, 778688, 830584, 857375, 884736, 941192, 1000000]\n"
     ]
    }
   ],
   "source": [
    "4.# Create a list of numbers from 1 to 100. Use for loop to calculate the cube of each number and if the cube \n",
    "# of that number is divisible by 4 or 5 then append that number in a list and print that list.\n",
    "\n",
    "cube=[]\n",
    "l1=[]\n",
    "for i in range(1,101):\n",
    "    cube.append(i*i*i)\n",
    "print('Cube of numbers are =\\n',cube)\n",
    "for i in cube:\n",
    "    if (i%4==0) or (i%5==0):         \n",
    "            l1.append(i)\n",
    "print('\\nNumber divisible by 4 or 5\\n',l1)"
   ]
  },
  {
   "cell_type": "code",
   "execution_count": 1,
   "id": "18979390-c1fa-4307-b74a-0b88993d4682",
   "metadata": {},
   "outputs": [
    {
     "name": "stdin",
     "output_type": "stream",
     "text": [
      "enter range 101\n"
     ]
    },
    {
     "name": "stdout",
     "output_type": "stream",
     "text": [
      "['1', '0', '1']\n"
     ]
    }
   ],
   "source": [
    "l= list(input('enter range'))\n",
    "print()"
   ]
  },
  {
   "cell_type": "code",
   "execution_count": 3,
   "id": "83ea72f0-51ec-47f7-9958-f7c14a056ac7",
   "metadata": {},
   "outputs": [
    {
     "name": "stdout",
     "output_type": "stream",
     "text": [
      "Cube of numbers are =\n",
      " [1, 8, 27, 64, 125, 216, 343, 512, 729, 1000, 1331, 1728, 2197, 2744, 3375, 4096, 4913, 5832, 6859, 8000, 9261, 10648, 12167, 13824, 15625, 17576, 19683, 21952, 24389, 27000, 29791, 32768, 35937, 39304, 42875, 46656, 50653, 54872, 59319, 64000, 68921, 74088, 79507, 85184, 91125, 97336, 103823, 110592, 117649, 125000, 132651, 140608, 148877, 157464, 166375, 175616, 185193, 195112, 205379, 216000, 226981, 238328, 250047, 262144, 274625, 287496, 300763, 314432, 328509, 343000, 357911, 373248, 389017, 405224, 421875, 438976, 456533, 474552, 493039, 512000, 531441, 551368, 571787, 592704, 614125, 636056, 658503, 681472, 704969, 729000, 753571, 778688, 804357, 830584, 857375, 884736, 912673, 941192, 970299, 1000000]\n",
      "\n",
      "Number divisible by 4 or 5\n",
      " [8, 64, 125, 216, 512, 1000, 1728, 2744, 3375, 4096, 5832, 8000, 10648, 13824, 15625, 17576, 21952, 27000, 32768, 39304, 42875, 46656, 54872, 64000, 74088, 85184, 91125, 97336, 110592, 125000, 140608, 157464, 166375, 175616, 195112, 216000, 238328, 262144, 274625, 287496, 314432, 343000, 373248, 405224, 421875, 438976, 474552, 512000, 551368, 592704, 614125, 636056, 681472, 729000, 778688, 830584, 857375, 884736, 941192, 1000000]\n"
     ]
    }
   ],
   "source": [
    "4. #Create a list of numbers from 1 to 100. Use while loop to calculate the cube of each number and if the cube of that number is\n",
    "# divisible by 4 or 5 then append that number in a list and print that list.\n",
    "\n",
    "l=range(1,101)\n",
    "cube=[]\n",
    "l1=[]\n",
    "i=1\n",
    "while i<=len(l):\n",
    "    cube.append(i**3)\n",
    "    i=i+1\n",
    "print('Cube of numbers are =\\n',cube)\n",
    "for i in cube:\n",
    "    if (i%4==0) or (i%5==0):         \n",
    "            l1.append(i)\n",
    "print('\\nNumber divisible by 4 or 5\\n',l1)"
   ]
  },
  {
   "cell_type": "code",
   "execution_count": 43,
   "id": "ea6b86b2-91da-4cb9-979b-4f8c5f7eb31d",
   "metadata": {},
   "outputs": [
    {
     "name": "stdout",
     "output_type": "stream",
     "text": [
      "No. of vowels- 12\n"
     ]
    }
   ],
   "source": [
    "5. # Write a program to filter count vowels in the below-given string.\n",
    "\n",
    "# string = \"I want to become a data scientist\"\n",
    "\n",
    "string= \"I want to become a data scientist\"\n",
    "i=0\n",
    "vowel=('aeiouAEIOU')\n",
    "\n",
    "for alphabet in string:\n",
    "    if alphabet in vowel:\n",
    "        i=i+1\n",
    "print('No. of vowels-',i)"
   ]
  }
 ],
 "metadata": {
  "kernelspec": {
   "display_name": "Python 3 (ipykernel)",
   "language": "python",
   "name": "python3"
  },
  "language_info": {
   "codemirror_mode": {
    "name": "ipython",
    "version": 3
   },
   "file_extension": ".py",
   "mimetype": "text/x-python",
   "name": "python",
   "nbconvert_exporter": "python",
   "pygments_lexer": "ipython3",
   "version": "3.10.8"
  }
 },
 "nbformat": 4,
 "nbformat_minor": 5
}
